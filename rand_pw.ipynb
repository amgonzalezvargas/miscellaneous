{
  "nbformat": 4,
  "nbformat_minor": 0,
  "metadata": {
    "colab": {
      "provenance": [],
      "authorship_tag": "ABX9TyM+2RikWBU2OB53vIV1FRy1",
      "include_colab_link": true
    },
    "kernelspec": {
      "name": "python3",
      "display_name": "Python 3"
    },
    "language_info": {
      "name": "python"
    }
  },
  "cells": [
    {
      "cell_type": "markdown",
      "metadata": {
        "id": "view-in-github",
        "colab_type": "text"
      },
      "source": [
        "<a href=\"https://colab.research.google.com/github/amgonzalezvargas/miscellaneous/blob/master/rand_pw.ipynb\" target=\"_parent\"><img src=\"https://colab.research.google.com/assets/colab-badge.svg\" alt=\"Open In Colab\"/></a>"
      ]
    },
    {
      "cell_type": "markdown",
      "source": [],
      "metadata": {
        "id": "Dg3txgiOlKfS"
      }
    },
    {
      "cell_type": "code",
      "execution_count": null,
      "metadata": {
        "id": "CbbgCLTelEub"
      },
      "outputs": [],
      "source": [
        "import random as rd\n",
        "from datetime import datetime\n",
        "\n",
        "\n",
        "myseed = datetime.now().microsecond\n",
        "rd.seed(myseed)\n",
        "\n",
        "esp_chars=[*range(33,47+1), *range(58,64+1), *range(91,96+1), *range(123,126+1)] ;\n",
        "numbers=[*range(48,57+1)];\n",
        "uppercase=[*range(65,90+1)];\n",
        "lowercase=[*range(97,122+1)];\n",
        "\n",
        "all_chars_ascii=[*esp_chars,*numbers,*uppercase,*lowercase]\n",
        "print(all_chars_ascii)\n",
        "\n",
        "ascii2char= lambda x: chr(x)\n",
        "\n",
        "all_chars=list(map(ascii2char,all_chars_ascii))\n",
        "print(all_chars)\n",
        "\n",
        "pwlen=int(input('Please tell me the length of the password you want '));\n",
        "\n",
        "mynewpw=rd.sample(all_chars,pwlen)\n",
        "mynewpw=''.join(mynewpw)\n",
        "print(f'Your new password is {mynewpw}')\n",
        "\n"
      ]
    }
  ]
}
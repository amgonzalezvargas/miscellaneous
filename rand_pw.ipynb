{
  "nbformat": 4,
  "nbformat_minor": 0,
  "metadata": {
    "colab": {
      "provenance": [],
      "authorship_tag": "ABX9TyME6bTgPFWOrZKWpFC3BaHO",
      "include_colab_link": true
    },
    "kernelspec": {
      "name": "python3",
      "display_name": "Python 3"
    },
    "language_info": {
      "name": "python"
    }
  },
  "cells": [
    {
      "cell_type": "markdown",
      "metadata": {
        "id": "view-in-github",
        "colab_type": "text"
      },
      "source": [
        "<a href=\"https://colab.research.google.com/github/amgonzalezvargas/miscellaneous/blob/master/rand_pw.ipynb\" target=\"_parent\"><img src=\"https://colab.research.google.com/assets/colab-badge.svg\" alt=\"Open In Colab\"/></a>"
      ]
    },
    {
      "cell_type": "code",
      "source": [
        "import random as rd\n",
        "from datetime import datetime\n",
        "\n",
        "myseed = datetime.now().microsecond\n",
        "rd.seed(myseed)\n",
        "\n",
        "esp_chars=[*range(33,47+1), *range(58,64+1), *range(91,96+1), *range(123,126+1)] ;\n",
        "numbers=[*range(48,57+1)];\n",
        "uppercase=[*range(65,90+1)];\n",
        "lowercase=[*range(97,122+1)];\n",
        "\n",
        "\n",
        "group_names=[\"Special Characters\",\"Numbers\",\"Uppercase\",\"Lowercase\"]\n",
        "group_ascii=[esp_chars,numbers,uppercase,lowercase]\n",
        "\n",
        "group_selection=[]\n",
        "for ix, name in enumerate(group_names):\n",
        "  addgroup=int(input('Do you want to include '+ name + \"? (1=yes, 0=no)\"))\n",
        "  if addgroup==1:\n",
        "    group_selection.extend(group_ascii[ix])\n",
        "    print('Your password will include '+ name)\n",
        "\n",
        "ascii2char= lambda x: chr(x)\n",
        "all_chars=list(map(ascii2char,group_selection))\n",
        "print(all_chars)\n",
        "\n",
        "pwlen=int(input('Please tell me the length of the password you want '));\n",
        "print( 'The length of your password is '+ str(pwlen))\n",
        "\n",
        "mynewpw=rd.sample(all_chars,pwlen)\n",
        "mynewpw=''.join(mynewpw)\n",
        "# Define the file name and the string you want to write\n",
        "file_name = \"psw.txt\"\n",
        "\n",
        "# Open the file in write mode ('w')\n",
        "with open(file_name, \"w\") as file:\n",
        "    # Write the string into the file\n",
        "    file.write(mynewpw)\n",
        "    file.close()\n",
        "print(f'Your new password is saved in the attachment')\n"
      ],
      "metadata": {
        "id": "bOi-XUmz7y37",
        "outputId": "781c46cd-8dab-44a8-fc7b-5236bc92d70b",
        "colab": {
          "base_uri": "https://localhost:8080/"
        }
      },
      "execution_count": 6,
      "outputs": [
        {
          "output_type": "stream",
          "name": "stdout",
          "text": [
            "Do you want to include Special Characters? (1=yes, 0=no)1\n",
            "Your password will include Special Characters\n",
            "Do you want to include Numbers? (1=yes, 0=no)1\n",
            "Your password will include Numbers\n",
            "Do you want to include Uppercase? (1=yes, 0=no)1\n",
            "Your password will include Uppercase\n",
            "Do you want to include Lowercase? (1=yes, 0=no)1\n",
            "Your password will include Lowercase\n",
            "['!', '\"', '#', '$', '%', '&', \"'\", '(', ')', '*', '+', ',', '-', '.', '/', ':', ';', '<', '=', '>', '?', '@', '[', '\\\\', ']', '^', '_', '`', '{', '|', '}', '~', '0', '1', '2', '3', '4', '5', '6', '7', '8', '9', 'A', 'B', 'C', 'D', 'E', 'F', 'G', 'H', 'I', 'J', 'K', 'L', 'M', 'N', 'O', 'P', 'Q', 'R', 'S', 'T', 'U', 'V', 'W', 'X', 'Y', 'Z', 'a', 'b', 'c', 'd', 'e', 'f', 'g', 'h', 'i', 'j', 'k', 'l', 'm', 'n', 'o', 'p', 'q', 'r', 's', 't', 'u', 'v', 'w', 'x', 'y', 'z']\n",
            "Please tell me the length of the password you want 16\n",
            "The length of your password is 16\n",
            "Your new password is saved in the attachment\n"
          ]
        }
      ]
    }
  ]
}
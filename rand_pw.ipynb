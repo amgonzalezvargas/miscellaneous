{
  "nbformat": 4,
  "nbformat_minor": 0,
  "metadata": {
    "colab": {
      "provenance": [],
      "authorship_tag": "ABX9TyPBwFvUpV3BOyYeVFCCIf3m",
      "include_colab_link": true
    },
    "kernelspec": {
      "name": "python3",
      "display_name": "Python 3"
    },
    "language_info": {
      "name": "python"
    }
  },
  "cells": [
    {
      "cell_type": "markdown",
      "metadata": {
        "id": "view-in-github",
        "colab_type": "text"
      },
      "source": [
        "<a href=\"https://colab.research.google.com/github/amgonzalezvargas/miscellaneous/blob/master/rand_pw.ipynb\" target=\"_parent\"><img src=\"https://colab.research.google.com/assets/colab-badge.svg\" alt=\"Open In Colab\"/></a>"
      ]
    },
    {
      "cell_type": "markdown",
      "source": [],
      "metadata": {
        "id": "Dg3txgiOlKfS"
      }
    },
    {
      "cell_type": "code",
      "execution_count": null,
      "metadata": {
        "colab": {
          "base_uri": "https://localhost:8080/"
        },
        "id": "CbbgCLTelEub",
        "outputId": "2c1eb0bd-8842-4058-e349-58dbe18a2b02"
      },
      "outputs": [
        {
          "output_type": "stream",
          "name": "stdout",
          "text": [
            "[48, 49, 50, 51, 52, 53, 54, 55, 56, 57, 65, 66, 67, 68, 69, 70, 71, 72, 73, 74, 75, 76, 77, 78, 79, 80, 81, 82, 83, 84, 85, 86, 87, 88, 89, 90, 97, 98, 99, 100, 101, 102, 103, 104, 105, 106, 107, 108, 109, 110, 111, 112, 113, 114, 115, 116, 117, 118, 119, 120, 121, 122]\n",
            "['0', '1', '2', '3', '4', '5', '6', '7', '8', '9', 'A', 'B', 'C', 'D', 'E', 'F', 'G', 'H', 'I', 'J', 'K', 'L', 'M', 'N', 'O', 'P', 'Q', 'R', 'S', 'T', 'U', 'V', 'W', 'X', 'Y', 'Z', 'a', 'b', 'c', 'd', 'e', 'f', 'g', 'h', 'i', 'j', 'k', 'l', 'm', 'n', 'o', 'p', 'q', 'r', 's', 't', 'u', 'v', 'w', 'x', 'y', 'z']\n",
            "Please tell me the length of the password you want 8\n",
            "Your new password is 6qaJsEM3\n"
          ]
        }
      ],
      "source": [
        "import random as rd\n",
        "from datetime import datetime\n",
        "\n",
        "\n",
        "myseed = datetime.now().microsecond\n",
        "rd.seed(myseed)\n",
        "\n",
        "esp_chars=[*range(33,47+1), *range(58,64+1), *range(91,96+1), *range(123,126+1)] ;\n",
        "numbers=[*range(48,57+1)];\n",
        "uppercase=[*range(65,90+1)];\n",
        "lowercase=[*range(97,122+1)];\n",
        "\n",
        "\n",
        "all_chars_ascii=[\"Special Characters\",\"Numbers,*uppercase,*lowercase]\n",
        "all_chars_ascii=[*esp_chars,*numbers,*uppercase,*lowercase]\n",
        "#all_chars_ascii=[*esp_chars,*numbers,*uppercase,*lowercase]\n",
        "all_chars_ascii=[*numbers,*uppercase,*lowercase]\n",
        "print(all_chars_ascii)\n",
        "\n",
        "ascii2char= lambda x: chr(x)\n",
        "\n",
        "all_chars=list(map(ascii2char,all_chars_ascii))\n",
        "print(all_chars)\n",
        "\n",
        "pwlen=int(input('Please tell me the length of the password you want '));\n",
        "#pwlen=12\n",
        "\n",
        "mynewpw=rd.sample(all_chars,pwlen)\n",
        "mynewpw=''.join(mynewpw)\n",
        "# Define the file name and the string you want to write\n",
        "file_name = \"psw.txt\"\n",
        "\n",
        "# Open the file in write mode ('w')\n",
        "with open(file_name, \"w\") as file:\n",
        "    # Write the string into the file\n",
        "    file.write(mynewpw)\n",
        "    file.close()\n",
        "\n",
        "\n",
        "\n",
        "\n",
        "\n",
        "print(f'Your new password is saved in the attachment')\n",
        "\n",
        "\n",
        "\n"
      ]
    },
    {
      "cell_type": "code",
      "source": [],
      "metadata": {
        "id": "H1h9maPtmJgL"
      },
      "execution_count": null,
      "outputs": []
    }
  ]
}
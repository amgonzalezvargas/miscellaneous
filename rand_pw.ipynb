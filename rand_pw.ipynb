{
  "nbformat": 4,
  "nbformat_minor": 0,
  "metadata": {
    "colab": {
      "provenance": [],
      "authorship_tag": "ABX9TyMxgI4UNSAu4QDhFKNoDrT7",
      "include_colab_link": true
    },
    "kernelspec": {
      "name": "python3",
      "display_name": "Python 3"
    },
    "language_info": {
      "name": "python"
    }
  },
  "cells": [
    {
      "cell_type": "markdown",
      "metadata": {
        "id": "view-in-github",
        "colab_type": "text"
      },
      "source": [
        "<a href=\"https://colab.research.google.com/github/amgonzalezvargas/miscellaneous/blob/master/rand_pw.ipynb\" target=\"_parent\"><img src=\"https://colab.research.google.com/assets/colab-badge.svg\" alt=\"Open In Colab\"/></a>"
      ]
    },
    {
      "cell_type": "markdown",
      "source": [],
      "metadata": {
        "id": "Dg3txgiOlKfS"
      }
    },
    {
      "cell_type": "code",
      "source": [
        "import random as rd\n",
        "from datetime import datetime\n"
      ],
      "metadata": {
        "id": "ifufsmr071Ty"
      },
      "execution_count": 4,
      "outputs": []
    },
    {
      "cell_type": "code",
      "source": [
        "myseed = datetime.now().microsecond\n",
        "rd.seed(myseed)\n",
        "\n",
        "esp_chars=[*range(33,47+1), *range(58,64+1), *range(91,96+1), *range(123,126+1)] ;\n",
        "numbers=[*range(48,57+1)];\n",
        "uppercase=[*range(65,90+1)];\n",
        "lowercase=[*range(97,122+1)];\n",
        "\n",
        "\n",
        "group_names=[\"Special Characters\",\"Numbers\",\"Uppercase\",\"Lowercase\"]\n",
        "group_ascii=[esp_chars,numbers,uppercase,lowercase]\n",
        "\n",
        "group_selection=[]\n",
        "for ix, name in enumerate(group_names):\n",
        "  addgroup=int(input('Do you want to include '+ name + \"? (1=yes, 0=no)\"))\n",
        "  if addgroup==1:\n",
        "    group_selection.extend(group_ascii[ix])\n",
        "    print('Your password will include '+ name)\n",
        "\n",
        "ascii2char= lambda x: chr(x)\n",
        "all_chars=list(map(ascii2char,group_selection))\n",
        "print(all_chars)"
      ],
      "metadata": {
        "id": "bOi-XUmz7y37",
        "outputId": "b7cff2a1-1878-4b82-d6fd-e1e56b21759c",
        "colab": {
          "base_uri": "https://localhost:8080/"
        }
      },
      "execution_count": 13,
      "outputs": [
        {
          "output_type": "stream",
          "name": "stdout",
          "text": [
            "Do you want to include Special Characters? (1=yes, 0=no)1\n",
            "Your password will include Special Characters\n",
            "Do you want to include Numbers? (1=yes, 0=no)1\n",
            "Your password will include Numbers\n",
            "Do you want to include Uppercase? (1=yes, 0=no)1\n",
            "Your password will include Uppercase\n",
            "Do you want to include Lowercase? (1=yes, 0=no)1\n",
            "Your password will include Lowercase\n",
            "['!', '\"', '#', '$', '%', '&', \"'\", '(', ')', '*', '+', ',', '-', '.', '/', ':', ';', '<', '=', '>', '?', '@', '[', '\\\\', ']', '^', '_', '`', '{', '|', '}', '~', '0', '1', '2', '3', '4', '5', '6', '7', '8', '9', 'A', 'B', 'C', 'D', 'E', 'F', 'G', 'H', 'I', 'J', 'K', 'L', 'M', 'N', 'O', 'P', 'Q', 'R', 'S', 'T', 'U', 'V', 'W', 'X', 'Y', 'Z', 'a', 'b', 'c', 'd', 'e', 'f', 'g', 'h', 'i', 'j', 'k', 'l', 'm', 'n', 'o', 'p', 'q', 'r', 's', 't', 'u', 'v', 'w', 'x', 'y', 'z']\n"
          ]
        }
      ]
    },
    {
      "cell_type": "code",
      "source": [
        "pwlen=int(input('Please tell me the length of the password you want '));\n",
        "print( 'The length of your password is '+ str(pwlen))"
      ],
      "metadata": {
        "id": "2NcE1GH_9Ob7",
        "outputId": "80d500f1-7c52-4c7f-e858-ef4b86f1586b",
        "colab": {
          "base_uri": "https://localhost:8080/"
        }
      },
      "execution_count": 14,
      "outputs": [
        {
          "output_type": "stream",
          "name": "stdout",
          "text": [
            "Please tell me the length of the password you want 16\n",
            "The length of your password is 16\n"
          ]
        }
      ]
    },
    {
      "cell_type": "code",
      "execution_count": 15,
      "metadata": {
        "colab": {
          "base_uri": "https://localhost:8080/"
        },
        "id": "CbbgCLTelEub",
        "outputId": "117c92a8-e1ad-4b00-bb59-8396ef2310ae"
      },
      "outputs": [
        {
          "output_type": "stream",
          "name": "stdout",
          "text": [
            "Your new password is saved in the attachment\n"
          ]
        }
      ],
      "source": [
        "mynewpw=rd.sample(all_chars,pwlen)\n",
        "mynewpw=''.join(mynewpw)\n",
        "# Define the file name and the string you want to write\n",
        "file_name = \"psw.txt\"\n",
        "\n",
        "# Open the file in write mode ('w')\n",
        "with open(file_name, \"w\") as file:\n",
        "    # Write the string into the file\n",
        "    file.write(mynewpw)\n",
        "    file.close()\n",
        "print(f'Your new password is saved in the attachment')\n",
        "\n",
        "\n",
        "\n"
      ]
    },
    {
      "cell_type": "code",
      "source": [],
      "metadata": {
        "id": "H1h9maPtmJgL"
      },
      "execution_count": null,
      "outputs": []
    }
  ]
}